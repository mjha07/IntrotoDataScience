{
 "cells": [
  {
   "cell_type": "code",
   "execution_count": 24,
   "metadata": {},
   "outputs": [],
   "source": [
    "import numpy as np\n",
    "import pandas as pd\n",
    "import seaborn as sns\n",
    "\n",
    "import matplotlib.pyplot as plt\n",
    "% matplotlib inline"
   ]
  },
  {
   "cell_type": "code",
   "execution_count": 4,
   "metadata": {},
   "outputs": [],
   "source": [
    "df = pd.read_csv('qb.train.csv')"
   ]
  },
  {
   "cell_type": "code",
   "execution_count": 5,
   "metadata": {},
   "outputs": [
    {
     "data": {
      "text/html": [
       "<div>\n",
       "<style scoped>\n",
       "    .dataframe tbody tr th:only-of-type {\n",
       "        vertical-align: middle;\n",
       "    }\n",
       "\n",
       "    .dataframe tbody tr th {\n",
       "        vertical-align: top;\n",
       "    }\n",
       "\n",
       "    .dataframe thead th {\n",
       "        text-align: right;\n",
       "    }\n",
       "</style>\n",
       "<table border=\"1\" class=\"dataframe\">\n",
       "  <thead>\n",
       "    <tr style=\"text-align: right;\">\n",
       "      <th></th>\n",
       "      <th>row</th>\n",
       "      <th>body_score</th>\n",
       "      <th>page</th>\n",
       "      <th>answer</th>\n",
       "      <th>text</th>\n",
       "      <th>category</th>\n",
       "      <th>tournaments</th>\n",
       "      <th>answer_type</th>\n",
       "      <th>corr</th>\n",
       "      <th>inlinks</th>\n",
       "    </tr>\n",
       "  </thead>\n",
       "  <tbody>\n",
       "    <tr>\n",
       "      <th>0</th>\n",
       "      <td>1</td>\n",
       "      <td>127.398036</td>\n",
       "      <td>Comus (John Milton)</td>\n",
       "      <td>Comus (John Milton)</td>\n",
       "      <td>First performed in Ludlow Castle by the childr...</td>\n",
       "      <td>Literature</td>\n",
       "      <td>2000 ACF Nationals</td>\n",
       "      <td>work</td>\n",
       "      <td>True</td>\n",
       "      <td>62</td>\n",
       "    </tr>\n",
       "    <tr>\n",
       "      <th>1</th>\n",
       "      <td>2</td>\n",
       "      <td>50.212336</td>\n",
       "      <td>Circe</td>\n",
       "      <td>Comus (John Milton)</td>\n",
       "      <td>First performed in Ludlow Castle by the childr...</td>\n",
       "      <td>Literature</td>\n",
       "      <td>2000 ACF Nationals</td>\n",
       "      <td>None</td>\n",
       "      <td>False</td>\n",
       "      <td>5</td>\n",
       "    </tr>\n",
       "    <tr>\n",
       "      <th>2</th>\n",
       "      <td>3</td>\n",
       "      <td>44.767071</td>\n",
       "      <td>Satyr</td>\n",
       "      <td>Comus (John Milton)</td>\n",
       "      <td>First performed in Ludlow Castle by the childr...</td>\n",
       "      <td>Literature</td>\n",
       "      <td>2000 ACF Nationals</td>\n",
       "      <td>None</td>\n",
       "      <td>False</td>\n",
       "      <td>6</td>\n",
       "    </tr>\n",
       "    <tr>\n",
       "      <th>3</th>\n",
       "      <td>4</td>\n",
       "      <td>44.058274</td>\n",
       "      <td>Philip K. Dick</td>\n",
       "      <td>Wilfred Owen</td>\n",
       "      <td>This author is convinced by another to publish...</td>\n",
       "      <td>Literature</td>\n",
       "      <td>2009 ACF Winter</td>\n",
       "      <td>people</td>\n",
       "      <td>False</td>\n",
       "      <td>22</td>\n",
       "    </tr>\n",
       "    <tr>\n",
       "      <th>4</th>\n",
       "      <td>5</td>\n",
       "      <td>40.675249</td>\n",
       "      <td>Honore de Balzac</td>\n",
       "      <td>Wilfred Owen</td>\n",
       "      <td>This author is convinced by another to publish...</td>\n",
       "      <td>Literature</td>\n",
       "      <td>2009 ACF Winter</td>\n",
       "      <td>None</td>\n",
       "      <td>False</td>\n",
       "      <td>0</td>\n",
       "    </tr>\n",
       "  </tbody>\n",
       "</table>\n",
       "</div>"
      ],
      "text/plain": [
       "   row  body_score                 page               answer  \\\n",
       "0    1  127.398036  Comus (John Milton)  Comus (John Milton)   \n",
       "1    2   50.212336                Circe  Comus (John Milton)   \n",
       "2    3   44.767071                Satyr  Comus (John Milton)   \n",
       "3    4   44.058274       Philip K. Dick         Wilfred Owen   \n",
       "4    5   40.675249     Honore de Balzac         Wilfred Owen   \n",
       "\n",
       "                                                text    category  \\\n",
       "0  First performed in Ludlow Castle by the childr...  Literature   \n",
       "1  First performed in Ludlow Castle by the childr...  Literature   \n",
       "2  First performed in Ludlow Castle by the childr...  Literature   \n",
       "3  This author is convinced by another to publish...  Literature   \n",
       "4  This author is convinced by another to publish...  Literature   \n",
       "\n",
       "          tournaments answer_type   corr  inlinks  \n",
       "0  2000 ACF Nationals        work   True       62  \n",
       "1  2000 ACF Nationals        None  False        5  \n",
       "2  2000 ACF Nationals        None  False        6  \n",
       "3     2009 ACF Winter      people  False       22  \n",
       "4     2009 ACF Winter        None  False        0  "
      ]
     },
     "execution_count": 5,
     "metadata": {},
     "output_type": "execute_result"
    }
   ],
   "source": [
    "df.head()"
   ]
  },
  {
   "cell_type": "code",
   "execution_count": 6,
   "metadata": {},
   "outputs": [
    {
     "data": {
      "text/plain": [
       "9"
      ]
     },
     "execution_count": 6,
     "metadata": {},
     "output_type": "execute_result"
    }
   ],
   "source": [
    "df.answer_type.value_counts().count()"
   ]
  },
  {
   "cell_type": "code",
   "execution_count": 7,
   "metadata": {},
   "outputs": [
    {
     "data": {
      "text/plain": [
       "76"
      ]
     },
     "execution_count": 7,
     "metadata": {},
     "output_type": "execute_result"
    }
   ],
   "source": [
    "df.tournaments.value_counts().count()"
   ]
  },
  {
   "cell_type": "markdown",
   "metadata": {},
   "source": [
    "We will check all teh unique values and compare if any value from the test dataset is missing in train dataset"
   ]
  },
  {
   "cell_type": "code",
   "execution_count": 8,
   "metadata": {},
   "outputs": [
    {
     "data": {
      "text/plain": [
       "array(['2000 ACF Nationals', '2009 ACF Winter', '2001 ACF Fall',\n",
       "       '2001 ACF Regionals', '2001 ACF Nationals', '2000 ACF Regionals',\n",
       "       '1999 ACF Nationals', '2002 ACF Fall', '2007 Terrapin',\n",
       "       '2002 ACF Regionals', '2002 ACF Nationals', '2009 ACF Nationals',\n",
       "       '2003 ACF Regionals', '2008 Cardinal Classic XVII',\n",
       "       '2003 ACF Nationals', '2008 Chicago Open', '2004 ACF Fall',\n",
       "       '2004 ACF Regionals', '2008 Chicago Open Literature Singles',\n",
       "       '2004 ACF Nationals', '2010 Chicago Open', '2005 ACF Fall',\n",
       "       '2008 FICHTE', '2009 ACF Fall', '2005 ACF Regionals',\n",
       "       '2005 ACF Nationals', '2008 Gunpei Yokoi Memorial Open',\n",
       "       '2008 MCMNT', '2006 ACF Regionals', '2008 MUT',\n",
       "       '1999 ACF Regionals', '2008 Penn Bowl', '2003 ACF Fall',\n",
       "       '2007 ACF Regionals', '2008 ACF Regionals', '2006 ACF Fall',\n",
       "       '2006 ACF Nationals', '2007 ACF Fall', '2007 ACF Nationals',\n",
       "       '2008 ACF Nationals', '2008 Sun N Fun IX', '2008 ACF Fall',\n",
       "       '2009 ACF Regionals', '2010 ACF Winter', '2010 ACF Regionals',\n",
       "       '2008 Terrapin', '2008 The July Crisis', '2008 VCU Open',\n",
       "       '2008 William Gaddis Experiment', '2008 Zot Bowl I',\n",
       "       '2008 Chitin Classic', '2008 Hunter College Prison Bowl',\n",
       "       '2008 HAVOC', '2008 PACE NSC',\n",
       "       '2010 Mildly Experimental Literature Doubles',\n",
       "       '2008 PACE Spring Qualifier', '2008 UIUC High School Solo',\n",
       "       '2007 Chicago Open', '2007 Chicago Open Literature Singles',\n",
       "       '2007 EFT II', '2007 Illinois Open', '2007 Deep Bench',\n",
       "       '2007 Illinois Open Literature Doubles', '2007 MCMNT', '2007 MLK',\n",
       "       '2007 Penn Bowl', '2009 Missouri Open', '2007 Titanomachy',\n",
       "       '2010 Penn Bowl', '2007 Westbrook Doubles - The Experiment',\n",
       "       '2008 EFT III', '2008 FEUERBACH', '2008 Illinois Open',\n",
       "       '2008 Minnesota Open', '2009 EuroFest', '2009 Buzzerfest'],\n",
       "      dtype=object)"
      ]
     },
     "execution_count": 8,
     "metadata": {},
     "output_type": "execute_result"
    }
   ],
   "source": [
    "df.tournaments.unique()"
   ]
  },
  {
   "cell_type": "code",
   "execution_count": 9,
   "metadata": {},
   "outputs": [
    {
     "data": {
      "text/plain": [
       "row            0\n",
       "body_score     0\n",
       "page           0\n",
       "answer         0\n",
       "text           0\n",
       "category       0\n",
       "tournaments    0\n",
       "answer_type    0\n",
       "corr           0\n",
       "inlinks        0\n",
       "dtype: int64"
      ]
     },
     "execution_count": 9,
     "metadata": {},
     "output_type": "execute_result"
    }
   ],
   "source": [
    "df.isnull().sum()"
   ]
  },
  {
   "cell_type": "markdown",
   "metadata": {},
   "source": [
    "# Initially, we will build the model using only page and answer just to check how accuracy will be affected"
   ]
  },
  {
   "cell_type": "code",
   "execution_count": 10,
   "metadata": {},
   "outputs": [],
   "source": [
    "X = df.iloc[:, [2,3]].values\n",
    "y = df.iloc[:, 8].values"
   ]
  },
  {
   "cell_type": "code",
   "execution_count": 11,
   "metadata": {},
   "outputs": [
    {
     "name": "stdout",
     "output_type": "stream",
     "text": [
      "[ True False False ... False False  True]\n"
     ]
    }
   ],
   "source": [
    "print(y)"
   ]
  },
  {
   "cell_type": "code",
   "execution_count": 12,
   "metadata": {},
   "outputs": [],
   "source": [
    "from sklearn.preprocessing import LabelEncoder, OneHotEncoder\n",
    "label_encoder_page = LabelEncoder()\n",
    "label_encoder_answer = LabelEncoder()\n",
    "\n",
    "label_encoder_page.fit(X[:,0]) #never enter multiple column here, it doesn't work\n",
    "X[:,0] = label_encoder_page.transform(X[:,0])\n",
    "\n",
    "label_encoder_answer.fit(X[:,1]) #never enter multiple column here, it doesn't work\n",
    "X[:,1] = label_encoder_answer.transform(X[:,1])\n",
    "\n",
    "one_hot_encoder = OneHotEncoder(categorical_features=[0,1], sparse=False)\n",
    "one_hot_encoder.fit(X)\n",
    "X= one_hot_encoder.transform(X)\n",
    "\n",
    "#X = np.delete(X, one_hot_encoder.feature_indices_[ : -1], 1)"
   ]
  },
  {
   "cell_type": "code",
   "execution_count": 13,
   "metadata": {},
   "outputs": [
    {
     "name": "stdout",
     "output_type": "stream",
     "text": [
      "[[0. 0. 0. ... 0. 0. 0.]\n",
      " [0. 0. 0. ... 0. 0. 0.]\n",
      " [0. 0. 0. ... 0. 0. 0.]\n",
      " ...\n",
      " [0. 0. 0. ... 0. 0. 0.]\n",
      " [0. 0. 0. ... 0. 0. 0.]\n",
      " [0. 0. 0. ... 0. 0. 0.]]\n"
     ]
    }
   ],
   "source": [
    "print(X)"
   ]
  },
  {
   "cell_type": "code",
   "execution_count": 12,
   "metadata": {},
   "outputs": [],
   "source": [
    "label_encoder_corr = LabelEncoder()\n",
    "label_encoder_corr.fit(y) #never enter multiple column here, it doesn't work\n",
    "y = label_encoder_corr.transform(y)"
   ]
  },
  {
   "cell_type": "markdown",
   "metadata": {},
   "source": [
    "In order to check the accuracy of our model, we will split the train dataset into train and test "
   ]
  },
  {
   "cell_type": "code",
   "execution_count": 13,
   "metadata": {},
   "outputs": [],
   "source": [
    "from sklearn.model_selection import train_test_split\n",
    "\n",
    "X_train, X_test, y_train, y_test = train_test_split(X, y, test_size =0.2, random_state = 0 ) "
   ]
  },
  {
   "cell_type": "code",
   "execution_count": 14,
   "metadata": {},
   "outputs": [
    {
     "data": {
      "text/plain": [
       "LogisticRegression(C=1.0, class_weight=None, dual=False, fit_intercept=True,\n",
       "          intercept_scaling=1, max_iter=100, multi_class='ovr', n_jobs=1,\n",
       "          penalty='l2', random_state=None, solver='liblinear', tol=0.0001,\n",
       "          verbose=0, warm_start=False)"
      ]
     },
     "execution_count": 14,
     "metadata": {},
     "output_type": "execute_result"
    }
   ],
   "source": [
    "from sklearn.linear_model import LogisticRegression\n",
    "\n",
    "glm_model = LogisticRegression()\n",
    "glm_model.fit(X_train, y_train)"
   ]
  },
  {
   "cell_type": "code",
   "execution_count": 15,
   "metadata": {},
   "outputs": [],
   "source": [
    "y_pred = glm_model.predict(X_test)\n",
    "y_pred_prob = glm_model.predict_proba(X_test) [:, 1]"
   ]
  },
  {
   "cell_type": "code",
   "execution_count": 16,
   "metadata": {},
   "outputs": [
    {
     "data": {
      "text/plain": [
       "array([[739, 190],\n",
       "       [197, 490]])"
      ]
     },
     "execution_count": 16,
     "metadata": {},
     "output_type": "execute_result"
    }
   ],
   "source": [
    "from sklearn.metrics import confusion_matrix\n",
    "confusion_matrix(y_test, y_pred)"
   ]
  },
  {
   "cell_type": "code",
   "execution_count": 17,
   "metadata": {},
   "outputs": [
    {
     "data": {
      "text/plain": [
       "0.760519801980198"
      ]
     },
     "execution_count": 17,
     "metadata": {},
     "output_type": "execute_result"
    }
   ],
   "source": [
    "from sklearn.metrics import accuracy_score\n",
    "accuracy_score(y_test, y_pred)"
   ]
  },
  {
   "cell_type": "code",
   "execution_count": 18,
   "metadata": {},
   "outputs": [
    {
     "data": {
      "image/png": "[encoded data removed]",
      "text/plain": [
       "<matplotlib.figure.Figure at 0x10e207198>"
      ]
     },
     "metadata": {},
     "output_type": "display_data"
    }
   ],
   "source": [
    "import matplotlib.pyplot as plt\n",
    "% matplotlib inline\n",
    "from sklearn.metrics import roc_curve, roc_auc_score\n",
    "\n",
    "fpr, tpr, threshold = roc_curve(y_test, y_pred_prob)\n",
    "auc_score = roc_auc_score(y_test, y_pred_prob)\n",
    "plt.title('Receiving Operating Characteristics')\n",
    "plt.plot(fpr, tpr, 'b', label = 'AUC = %0.2f'%auc_score)\n",
    "plt.legend(loc = 'lower right')\n",
    "plt.plot([0,1], [0,1], 'r--')\n",
    "plt.xlim([0,1])\n",
    "plt.ylim([0,1])\n",
    "plt.xlabel('False Positive Rate')\n",
    "plt.ylabel('True Positive Rate')\n",
    "plt.show()"
   ]
  },
  {
   "cell_type": "markdown",
   "metadata": {},
   "source": [
    "# So, we are getting 76% accuracy with the columns page and answers. However, please note that the page values are all different in the actual train and test dataset and answer column will not be present in the test dataset. Hence, we will create a model using columns: body_score, tournaments, answer_type and inlinks"
   ]
  },
  {
   "cell_type": "code",
   "execution_count": 14,
   "metadata": {},
   "outputs": [],
   "source": [
    "X = df.iloc[:, [1,6,7,9]].values\n",
    "y = df.iloc[:, 8].values "
   ]
  },
  {
   "cell_type": "code",
   "execution_count": 15,
   "metadata": {},
   "outputs": [],
   "source": [
    "from sklearn.preprocessing import LabelEncoder, OneHotEncoder\n",
    "label_encoder_tournaments = LabelEncoder()\n",
    "label_encoder_answertype = LabelEncoder()\n",
    "\n",
    "label_encoder_tournaments.fit(X[:,1]) #never enter multiple column here, it doesn't work\n",
    "X[:,1] = label_encoder_tournaments.transform(X[:,1])\n",
    "\n",
    "label_encoder_answertype.fit(X[:,2]) #never enter multiple column here, it doesn't work\n",
    "X[:,2] = label_encoder_answertype.transform(X[:,2])\n",
    "\n",
    "one_hot_encoder = OneHotEncoder(categorical_features=[1,2], sparse=False)\n",
    "one_hot_encoder.fit(X)\n",
    "X= one_hot_encoder.transform(X)"
   ]
  },
  {
   "cell_type": "code",
   "execution_count": 16,
   "metadata": {},
   "outputs": [],
   "source": [
    "label_encoder_corr = LabelEncoder()\n",
    "label_encoder_corr.fit(y) #never enter multiple column here, it doesn't work\n",
    "y = label_encoder_corr.transform(y)"
   ]
  },
  {
   "cell_type": "code",
   "execution_count": 17,
   "metadata": {},
   "outputs": [],
   "source": [
    "from sklearn.model_selection import train_test_split\n",
    "\n",
    "X_train, X_test, y_train, y_test = train_test_split(X, y, test_size =0.2, random_state = 0 ) "
   ]
  },
  {
   "cell_type": "markdown",
   "metadata": {},
   "source": [
    "# We will be bulding different Machine Learning models and comparing the accuracy score and area under curve(auc) and storing it in a df called accuracy_matrix"
   ]
  },
  {
   "cell_type": "code",
   "execution_count": 18,
   "metadata": {},
   "outputs": [],
   "source": [
    "columns = ['Model_Name', 'accuracy_score', 'auc']\n",
    "accuracy_matrix = pd.DataFrame(columns=columns)"
   ]
  },
  {
   "cell_type": "markdown",
   "metadata": {},
   "source": [
    "# Creating a Logistic Regression Model"
   ]
  },
  {
   "cell_type": "code",
   "execution_count": 19,
   "metadata": {},
   "outputs": [
    {
     "data": {
      "text/plain": [
       "LogisticRegression(C=1.0, class_weight=None, dual=False, fit_intercept=True,\n",
       "          intercept_scaling=1, max_iter=100, multi_class='ovr', n_jobs=1,\n",
       "          penalty='l2', random_state=None, solver='liblinear', tol=0.0001,\n",
       "          verbose=0, warm_start=False)"
      ]
     },
     "execution_count": 19,
     "metadata": {},
     "output_type": "execute_result"
    }
   ],
   "source": [
    "from sklearn.linear_model import LogisticRegression\n",
    "\n",
    "glm_model = LogisticRegression()\n",
    "glm_model.fit(X_train, y_train)"
   ]
  },
  {
   "cell_type": "code",
   "execution_count": 25,
   "metadata": {},
   "outputs": [],
   "source": [
    "y_pred = glm_model.predict(X_test)\n",
    "y_pred_prob = glm_model.predict_proba(X_test) [:, 1]"
   ]
  },
  {
   "cell_type": "code",
   "execution_count": 26,
   "metadata": {},
   "outputs": [
    {
     "data": {
      "text/plain": [
       "0.6670792079207921"
      ]
     },
     "execution_count": 26,
     "metadata": {},
     "output_type": "execute_result"
    }
   ],
   "source": [
    "from sklearn.metrics import accuracy_score\n",
    "accuracy_score(y_test, y_pred)"
   ]
  },
  {
   "cell_type": "code",
   "execution_count": 27,
   "metadata": {},
   "outputs": [
    {
     "data": {
      "image/png": "[encoded data removed]",
      "text/plain": [
       "<matplotlib.figure.Figure at 0x10f4534a8>"
      ]
     },
     "metadata": {},
     "output_type": "display_data"
    }
   ],
   "source": [
    "import matplotlib.pyplot as plt\n",
    "% matplotlib inline\n",
    "from sklearn.metrics import roc_curve, roc_auc_score\n",
    "\n",
    "fpr, tpr, threshold = roc_curve(y_test, y_pred_prob)\n",
    "auc_score = roc_auc_score(y_test, y_pred_prob)\n",
    "plt.title('Receiving Operating Characteristics')\n",
    "plt.plot(fpr, tpr, 'b', label = 'AUC = %0.2f'%auc_score)\n",
    "plt.legend(loc = 'lower right')\n",
    "plt.plot([0,1], [0,1], 'r--')\n",
    "plt.xlim([0,1])\n",
    "plt.ylim([0,1])\n",
    "plt.xlabel('False Positive Rate')\n",
    "plt.ylabel('True Positive Rate')\n",
    "plt.show()"
   ]
  },
  {
   "cell_type": "code",
   "execution_count": 28,
   "metadata": {},
   "outputs": [],
   "source": [
    "accuracy_matrix.loc[0] = ['Logistic Regression', 66.7, 0.69] "
   ]
  },
  {
   "cell_type": "markdown",
   "metadata": {},
   "source": [
    "# Adaptive Boosting Classifier Model"
   ]
  },
  {
   "cell_type": "code",
   "execution_count": 29,
   "metadata": {},
   "outputs": [
    {
     "data": {
      "text/plain": [
       "AdaBoostClassifier(algorithm='SAMME.R', base_estimator=None,\n",
       "          learning_rate=1.0, n_estimators=50, random_state=None)"
      ]
     },
     "execution_count": 29,
     "metadata": {},
     "output_type": "execute_result"
    }
   ],
   "source": [
    "from sklearn.ensemble import AdaBoostClassifier\n",
    "\n",
    "ada_boost_model = AdaBoostClassifier()\n",
    "ada_boost_model.fit(X_train, y_train)"
   ]
  },
  {
   "cell_type": "code",
   "execution_count": 30,
   "metadata": {},
   "outputs": [],
   "source": [
    "y_pred = ada_boost_model.predict(X_test)\n",
    "y_pred_prob = ada_boost_model.predict_proba(X_test) [:, 1]"
   ]
  },
  {
   "cell_type": "code",
   "execution_count": 31,
   "metadata": {},
   "outputs": [
    {
     "data": {
      "text/plain": [
       "0.780940594059406"
      ]
     },
     "execution_count": 31,
     "metadata": {},
     "output_type": "execute_result"
    }
   ],
   "source": [
    "from sklearn.metrics import accuracy_score\n",
    "accuracy_score(y_test, y_pred)"
   ]
  },
  {
   "cell_type": "code",
   "execution_count": 32,
   "metadata": {},
   "outputs": [
    {
     "data": {
      "image/png": "[encoded data removed]",
      "text/plain": [
       "<matplotlib.figure.Figure at 0x10f5e9160>"
      ]
     },
     "metadata": {},
     "output_type": "display_data"
    }
   ],
   "source": [
    "from sklearn.metrics import roc_curve, roc_auc_score\n",
    "\n",
    "fpr, tpr, threshold = roc_curve(y_test, y_pred_prob)\n",
    "auc_score = roc_auc_score(y_test, y_pred_prob)\n",
    "plt.title('Receiving Operating Characteristics')\n",
    "plt.plot(fpr, tpr, 'b', label = 'AUC = %0.2f'%auc_score)\n",
    "plt.legend(loc = 'lower right')\n",
    "plt.plot([0,1], [0,1], 'r--')\n",
    "plt.xlim([0,1])\n",
    "plt.ylim([0,1])\n",
    "plt.xlabel('False Positive Rate')\n",
    "plt.ylabel('True Positive Rate')\n",
    "plt.show()"
   ]
  },
  {
   "cell_type": "code",
   "execution_count": 33,
   "metadata": {},
   "outputs": [],
   "source": [
    "accuracy_matrix.loc[1] = ['Adaptive Boosting Classifier', 78, 0.83] "
   ]
  },
  {
   "cell_type": "markdown",
   "metadata": {},
   "source": [
    "# Building Decision Tree Model"
   ]
  },
  {
   "cell_type": "code",
   "execution_count": 34,
   "metadata": {},
   "outputs": [
    {
     "data": {
      "text/plain": [
       "DecisionTreeClassifier(class_weight=None, criterion='gini', max_depth=None,\n",
       "            max_features=None, max_leaf_nodes=None,\n",
       "            min_impurity_decrease=0.0, min_impurity_split=None,\n",
       "            min_samples_leaf=1, min_samples_split=2,\n",
       "            min_weight_fraction_leaf=0.0, presort=False, random_state=None,\n",
       "            splitter='best')"
      ]
     },
     "execution_count": 34,
     "metadata": {},
     "output_type": "execute_result"
    }
   ],
   "source": [
    "from sklearn.tree import DecisionTreeClassifier\n",
    "\n",
    "dtc_model = DecisionTreeClassifier()\n",
    "dtc_model.fit(X_train, y_train)"
   ]
  },
  {
   "cell_type": "code",
   "execution_count": 35,
   "metadata": {},
   "outputs": [],
   "source": [
    "y_pred = dtc_model.predict(X_test)\n",
    "y_pred_prob = dtc_model.predict_proba(X_test) [:, 1]"
   ]
  },
  {
   "cell_type": "code",
   "execution_count": 36,
   "metadata": {},
   "outputs": [
    {
     "data": {
      "text/plain": [
       "0.7178217821782178"
      ]
     },
     "execution_count": 36,
     "metadata": {},
     "output_type": "execute_result"
    }
   ],
   "source": [
    "from sklearn.metrics import accuracy_score\n",
    "accuracy_score(y_test, y_pred)"
   ]
  },
  {
   "cell_type": "code",
   "execution_count": 37,
   "metadata": {},
   "outputs": [
    {
     "data": {
      "image/png": "[encoded data removed]",
      "text/plain": [
       "<matplotlib.figure.Figure at 0x10e204710>"
      ]
     },
     "metadata": {},
     "output_type": "display_data"
    }
   ],
   "source": [
    "from sklearn.metrics import roc_curve, roc_auc_score\n",
    "\n",
    "fpr, tpr, threshold = roc_curve(y_test, y_pred_prob)\n",
    "auc_score = roc_auc_score(y_test, y_pred_prob)\n",
    "plt.title('Receiving Operating Characteristics')\n",
    "plt.plot(fpr, tpr, 'b', label = 'AUC = %0.2f'%auc_score)\n",
    "plt.legend(loc = 'lower right')\n",
    "plt.plot([0,1], [0,1], 'r--')\n",
    "plt.xlim([0,1])\n",
    "plt.ylim([0,1])\n",
    "plt.xlabel('False Positive Rate')\n",
    "plt.ylabel('True Positive Rate')\n",
    "plt.show()"
   ]
  },
  {
   "cell_type": "code",
   "execution_count": 38,
   "metadata": {},
   "outputs": [],
   "source": [
    "accuracy_matrix.loc[2] = ['Decision Tree', 71.7, 0.71] "
   ]
  },
  {
   "cell_type": "markdown",
   "metadata": {},
   "source": [
    "# Building Random Forest Model"
   ]
  },
  {
   "cell_type": "code",
   "execution_count": 39,
   "metadata": {},
   "outputs": [
    {
     "data": {
      "text/plain": [
       "RandomForestClassifier(bootstrap=True, class_weight=None, criterion='gini',\n",
       "            max_depth=None, max_features='auto', max_leaf_nodes=None,\n",
       "            min_impurity_decrease=0.0, min_impurity_split=None,\n",
       "            min_samples_leaf=1, min_samples_split=2,\n",
       "            min_weight_fraction_leaf=0.0, n_estimators=1000, n_jobs=1,\n",
       "            oob_score=False, random_state=None, verbose=0,\n",
       "            warm_start=False)"
      ]
     },
     "execution_count": 39,
     "metadata": {},
     "output_type": "execute_result"
    }
   ],
   "source": [
    "#Using Random Forest\n",
    "from sklearn.ensemble import RandomForestClassifier\n",
    "\n",
    "rf_model = RandomForestClassifier(n_estimators=1000)\n",
    "rf_model.fit(X_train, y_train)"
   ]
  },
  {
   "cell_type": "code",
   "execution_count": 40,
   "metadata": {},
   "outputs": [],
   "source": [
    "y_pred = rf_model.predict(X_test)\n",
    "y_pred_prob = rf_model.predict_proba(X_test) [:, 1]"
   ]
  },
  {
   "cell_type": "code",
   "execution_count": 41,
   "metadata": {},
   "outputs": [
    {
     "data": {
      "text/plain": [
       "0.7772277227722773"
      ]
     },
     "execution_count": 41,
     "metadata": {},
     "output_type": "execute_result"
    }
   ],
   "source": [
    "from sklearn.metrics import accuracy_score\n",
    "accuracy_score(y_test, y_pred)"
   ]
  },
  {
   "cell_type": "code",
   "execution_count": 42,
   "metadata": {},
   "outputs": [
    {
     "data": {
      "image/png": "[encoded data removed]",
      "text/plain": [
       "<matplotlib.figure.Figure at 0x13cfe09b0>"
      ]
     },
     "metadata": {},
     "output_type": "display_data"
    }
   ],
   "source": [
    "from sklearn.metrics import roc_curve, roc_auc_score\n",
    "\n",
    "fpr, tpr, threshold = roc_curve(y_test, y_pred_prob)\n",
    "auc_score = roc_auc_score(y_test, y_pred_prob)\n",
    "plt.title('Receiving Operating Characteristics')\n",
    "plt.plot(fpr, tpr, 'b', label = 'AUC = %0.2f'%auc_score)\n",
    "plt.legend(loc = 'lower right')\n",
    "plt.plot([0,1], [0,1], 'r--')\n",
    "plt.xlim([0,1])\n",
    "plt.ylim([0,1])\n",
    "plt.xlabel('False Positive Rate')\n",
    "plt.ylabel('True Positive Rate')\n",
    "plt.show()"
   ]
  },
  {
   "cell_type": "code",
   "execution_count": 48,
   "metadata": {},
   "outputs": [],
   "source": [
    "accuracy_matrix.loc[3] = ['Random Forest', 77.7, 0.83] "
   ]
  },
  {
   "cell_type": "markdown",
   "metadata": {},
   "source": [
    "# Building SVM Model"
   ]
  },
  {
   "cell_type": "code",
   "execution_count": 20,
   "metadata": {},
   "outputs": [],
   "source": [
    "from sklearn.svm import SVC"
   ]
  },
  {
   "cell_type": "code",
   "execution_count": 21,
   "metadata": {},
   "outputs": [],
   "source": [
    "svm_class = SVC(kernel='rbf', random_state=0, probability=True)\n",
    "svm_class.fit(X_train,y_train)\n",
    "y_pred = svm_class.predict(X_test)\n",
    "y_pred_prob = svm_class.predict_proba(X_test) [:, 1]"
   ]
  },
  {
   "cell_type": "code",
   "execution_count": 22,
   "metadata": {},
   "outputs": [
    {
     "data": {
      "text/plain": [
       "0.7797029702970297"
      ]
     },
     "execution_count": 22,
     "metadata": {},
     "output_type": "execute_result"
    }
   ],
   "source": [
    "from sklearn.metrics import accuracy_score\n",
    "accuracy_score(y_test, y_pred)"
   ]
  },
  {
   "cell_type": "code",
   "execution_count": 25,
   "metadata": {},
   "outputs": [
    {
     "data": {
      "image/png": "[encoded data removed]",
      "text/plain": [
       "<matplotlib.figure.Figure at 0x11613bbe0>"
      ]
     },
     "metadata": {},
     "output_type": "display_data"
    }
   ],
   "source": [
    "from sklearn.metrics import roc_curve, roc_auc_score\n",
    "\n",
    "fpr, tpr, threshold = roc_curve(y_test, y_pred_prob)\n",
    "auc_score = roc_auc_score(y_test, y_pred_prob)\n",
    "plt.title('Receiving Operating Characteristics')\n",
    "plt.plot(fpr, tpr, 'b', label = 'AUC = %0.2f'%auc_score)\n",
    "plt.legend(loc = 'lower right')\n",
    "plt.plot([0,1], [0,1], 'r--')\n",
    "plt.xlim([0,1])\n",
    "plt.ylim([0,1])\n",
    "plt.xlabel('False Positive Rate')\n",
    "plt.ylabel('True Positive Rate')\n",
    "plt.show()"
   ]
  },
  {
   "cell_type": "code",
   "execution_count": 49,
   "metadata": {},
   "outputs": [],
   "source": [
    "accuracy_matrix.loc[4] = ['SVM', 78, 0.82] "
   ]
  },
  {
   "cell_type": "code",
   "execution_count": 51,
   "metadata": {},
   "outputs": [
    {
     "data": {
      "text/html": [
       "<div>\n",
       "<style scoped>\n",
       "    .dataframe tbody tr th:only-of-type {\n",
       "        vertical-align: middle;\n",
       "    }\n",
       "\n",
       "    .dataframe tbody tr th {\n",
       "        vertical-align: top;\n",
       "    }\n",
       "\n",
       "    .dataframe thead th {\n",
       "        text-align: right;\n",
       "    }\n",
       "</style>\n",
       "<table border=\"1\" class=\"dataframe\">\n",
       "  <thead>\n",
       "    <tr style=\"text-align: right;\">\n",
       "      <th></th>\n",
       "      <th>Model_Name</th>\n",
       "      <th>accuracy_score</th>\n",
       "      <th>auc</th>\n",
       "    </tr>\n",
       "  </thead>\n",
       "  <tbody>\n",
       "    <tr>\n",
       "      <th>0</th>\n",
       "      <td>Logistic Regression</td>\n",
       "      <td>66.7</td>\n",
       "      <td>0.69</td>\n",
       "    </tr>\n",
       "    <tr>\n",
       "      <th>1</th>\n",
       "      <td>Adaptive Boosting Classifier</td>\n",
       "      <td>78.0</td>\n",
       "      <td>0.83</td>\n",
       "    </tr>\n",
       "    <tr>\n",
       "      <th>2</th>\n",
       "      <td>Decision Tree</td>\n",
       "      <td>71.7</td>\n",
       "      <td>0.71</td>\n",
       "    </tr>\n",
       "    <tr>\n",
       "      <th>3</th>\n",
       "      <td>Random Forest</td>\n",
       "      <td>77.7</td>\n",
       "      <td>0.83</td>\n",
       "    </tr>\n",
       "    <tr>\n",
       "      <th>4</th>\n",
       "      <td>SVM</td>\n",
       "      <td>78.0</td>\n",
       "      <td>0.82</td>\n",
       "    </tr>\n",
       "  </tbody>\n",
       "</table>\n",
       "</div>"
      ],
      "text/plain": [
       "                     Model_Name  accuracy_score   auc\n",
       "0           Logistic Regression            66.7  0.69\n",
       "1  Adaptive Boosting Classifier            78.0  0.83\n",
       "2                 Decision Tree            71.7  0.71\n",
       "3                 Random Forest            77.7  0.83\n",
       "4                           SVM            78.0  0.82"
      ]
     },
     "execution_count": 51,
     "metadata": {},
     "output_type": "execute_result"
    }
   ],
   "source": [
    "accuracy_matrix.head()"
   ]
  },
  {
   "cell_type": "markdown",
   "metadata": {},
   "source": [
    "# Ques 3: I have extracted two additional features form the dataset:\n",
    "                1. length of the text \n",
    "                2. year of the tournament\n",
    "From above, it can be observed that Adaptive Boosting and SVM both are giving the best accuracy score of 78%. Hence, I will build my final model using SVM. I will also compare if the above two additional feature increase the accuracy or decrease it by comparing the accuracy score and Area under Curve graph. "
   ]
  },
  {
   "cell_type": "code",
   "execution_count": 28,
   "metadata": {},
   "outputs": [],
   "source": [
    "import re\n",
    "pattern = \"^[0-9][0-9][0-9][0-9]\"\n",
    "\n",
    "for index, row in df.iterrows():\n",
    "    temp = df['tournaments'].values[index]\n",
    "    year = re.match(pattern, temp)\n",
    "    df['tournament_year'].values[index] = year.group(0)"
   ]
  },
  {
   "cell_type": "code",
   "execution_count": 30,
   "metadata": {},
   "outputs": [],
   "source": [
    "for index, row in df.iterrows():\n",
    "    temp = df['text'].values[index]\n",
    "    temp = temp.split()\n",
    "    length = len(temp)\n",
    "    df['length_text'].values[index] = length"
   ]
  },
  {
   "cell_type": "code",
   "execution_count": 51,
   "metadata": {},
   "outputs": [
    {
     "name": "stdout",
     "output_type": "stream",
     "text": [
      "2000\n"
     ]
    }
   ],
   "source": [
    "# import re\n",
    "# var = '2000 ACF Spring'\n",
    "# pattern = \"^[0-9][0-9][0-9][0-9]\"\n",
    "# val = re.match(pattern, var)\n",
    "# print(val.group(0))"
   ]
  },
  {
   "cell_type": "code",
   "execution_count": 57,
   "metadata": {},
   "outputs": [
    {
     "data": {
      "text/html": [
       "<div>\n",
       "<style scoped>\n",
       "    .dataframe tbody tr th:only-of-type {\n",
       "        vertical-align: middle;\n",
       "    }\n",
       "\n",
       "    .dataframe tbody tr th {\n",
       "        vertical-align: top;\n",
       "    }\n",
       "\n",
       "    .dataframe thead th {\n",
       "        text-align: right;\n",
       "    }\n",
       "</style>\n",
       "<table border=\"1\" class=\"dataframe\">\n",
       "  <thead>\n",
       "    <tr style=\"text-align: right;\">\n",
       "      <th></th>\n",
       "      <th>row</th>\n",
       "      <th>body_score</th>\n",
       "      <th>page</th>\n",
       "      <th>answer</th>\n",
       "      <th>text</th>\n",
       "      <th>category</th>\n",
       "      <th>tournaments</th>\n",
       "      <th>answer_type</th>\n",
       "      <th>corr</th>\n",
       "      <th>inlinks</th>\n",
       "      <th>tournament_year</th>\n",
       "      <th>length_text</th>\n",
       "    </tr>\n",
       "  </thead>\n",
       "  <tbody>\n",
       "    <tr>\n",
       "      <th>0</th>\n",
       "      <td>1</td>\n",
       "      <td>127.398036</td>\n",
       "      <td>Comus (John Milton)</td>\n",
       "      <td>Comus (John Milton)</td>\n",
       "      <td>First performed in Ludlow Castle by the childr...</td>\n",
       "      <td>Literature</td>\n",
       "      <td>2000 ACF Nationals</td>\n",
       "      <td>work</td>\n",
       "      <td>True</td>\n",
       "      <td>62</td>\n",
       "      <td>2000</td>\n",
       "      <td>65</td>\n",
       "    </tr>\n",
       "    <tr>\n",
       "      <th>1</th>\n",
       "      <td>2</td>\n",
       "      <td>50.212336</td>\n",
       "      <td>Circe</td>\n",
       "      <td>Comus (John Milton)</td>\n",
       "      <td>First performed in Ludlow Castle by the childr...</td>\n",
       "      <td>Literature</td>\n",
       "      <td>2000 ACF Nationals</td>\n",
       "      <td>None</td>\n",
       "      <td>False</td>\n",
       "      <td>5</td>\n",
       "      <td>2000</td>\n",
       "      <td>65</td>\n",
       "    </tr>\n",
       "    <tr>\n",
       "      <th>2</th>\n",
       "      <td>3</td>\n",
       "      <td>44.767071</td>\n",
       "      <td>Satyr</td>\n",
       "      <td>Comus (John Milton)</td>\n",
       "      <td>First performed in Ludlow Castle by the childr...</td>\n",
       "      <td>Literature</td>\n",
       "      <td>2000 ACF Nationals</td>\n",
       "      <td>None</td>\n",
       "      <td>False</td>\n",
       "      <td>6</td>\n",
       "      <td>2000</td>\n",
       "      <td>65</td>\n",
       "    </tr>\n",
       "    <tr>\n",
       "      <th>3</th>\n",
       "      <td>4</td>\n",
       "      <td>44.058274</td>\n",
       "      <td>Philip K. Dick</td>\n",
       "      <td>Wilfred Owen</td>\n",
       "      <td>This author is convinced by another to publish...</td>\n",
       "      <td>Literature</td>\n",
       "      <td>2009 ACF Winter</td>\n",
       "      <td>people</td>\n",
       "      <td>False</td>\n",
       "      <td>22</td>\n",
       "      <td>2009</td>\n",
       "      <td>56</td>\n",
       "    </tr>\n",
       "    <tr>\n",
       "      <th>4</th>\n",
       "      <td>5</td>\n",
       "      <td>40.675249</td>\n",
       "      <td>Honore de Balzac</td>\n",
       "      <td>Wilfred Owen</td>\n",
       "      <td>This author is convinced by another to publish...</td>\n",
       "      <td>Literature</td>\n",
       "      <td>2009 ACF Winter</td>\n",
       "      <td>None</td>\n",
       "      <td>False</td>\n",
       "      <td>0</td>\n",
       "      <td>2009</td>\n",
       "      <td>56</td>\n",
       "    </tr>\n",
       "  </tbody>\n",
       "</table>\n",
       "</div>"
      ],
      "text/plain": [
       "   row  body_score                 page               answer  \\\n",
       "0    1  127.398036  Comus (John Milton)  Comus (John Milton)   \n",
       "1    2   50.212336                Circe  Comus (John Milton)   \n",
       "2    3   44.767071                Satyr  Comus (John Milton)   \n",
       "3    4   44.058274       Philip K. Dick         Wilfred Owen   \n",
       "4    5   40.675249     Honore de Balzac         Wilfred Owen   \n",
       "\n",
       "                                                text    category  \\\n",
       "0  First performed in Ludlow Castle by the childr...  Literature   \n",
       "1  First performed in Ludlow Castle by the childr...  Literature   \n",
       "2  First performed in Ludlow Castle by the childr...  Literature   \n",
       "3  This author is convinced by another to publish...  Literature   \n",
       "4  This author is convinced by another to publish...  Literature   \n",
       "\n",
       "          tournaments answer_type   corr  inlinks tournament_year  length_text  \n",
       "0  2000 ACF Nationals        work   True       62            2000           65  \n",
       "1  2000 ACF Nationals        None  False        5            2000           65  \n",
       "2  2000 ACF Nationals        None  False        6            2000           65  \n",
       "3     2009 ACF Winter      people  False       22            2009           56  \n",
       "4     2009 ACF Winter        None  False        0            2009           56  "
      ]
     },
     "execution_count": 57,
     "metadata": {},
     "output_type": "execute_result"
    }
   ],
   "source": [
    "df.head()"
   ]
  },
  {
   "cell_type": "code",
   "execution_count": 31,
   "metadata": {},
   "outputs": [],
   "source": [
    "X = df.iloc[:, [1,6,7,9,10,11]].values\n",
    "y = df.iloc[:, 8].values"
   ]
  },
  {
   "cell_type": "code",
   "execution_count": 32,
   "metadata": {},
   "outputs": [],
   "source": [
    "from sklearn.preprocessing import LabelEncoder, OneHotEncoder\n",
    "label_encoder_tournaments_1 = LabelEncoder()\n",
    "label_encoder_answer_type = LabelEncoder()\n",
    "label_encoder_tournament_year = LabelEncoder()\n",
    "\n",
    "label_encoder_tournaments_1.fit(X[:,1]) #never enter multiple column here, it doesn't work\n",
    "X[:,1] = label_encoder_tournaments_1.transform(X[:,1])\n",
    "\n",
    "label_encoder_answer_type.fit(X[:,2]) #never enter multiple column here, it doesn't work\n",
    "X[:,2] = label_encoder_answer_type.transform(X[:,2])\n",
    "\n",
    "label_encoder_tournament_year.fit(X[:,4]) #never enter multiple column here, it doesn't work\n",
    "X[:,4] = label_encoder_tournament_year.transform(X[:,4])\n",
    "\n",
    "one_hot_encoder = OneHotEncoder(categorical_features=[1,2,4], sparse=False)\n",
    "one_hot_encoder.fit(X)\n",
    "X= one_hot_encoder.transform(X)"
   ]
  },
  {
   "cell_type": "code",
   "execution_count": 33,
   "metadata": {},
   "outputs": [],
   "source": [
    "label_encoder_corr = LabelEncoder()\n",
    "label_encoder_corr.fit(y) #never enter multiple column here, it doesn't work\n",
    "y = label_encoder_corr.transform(y)"
   ]
  },
  {
   "cell_type": "code",
   "execution_count": 34,
   "metadata": {},
   "outputs": [],
   "source": [
    "from sklearn.model_selection import train_test_split\n",
    "\n",
    "X_train, X_test, y_train, y_test = train_test_split(X, y, test_size =0.2, random_state = 0 )"
   ]
  },
  {
   "cell_type": "code",
   "execution_count": 35,
   "metadata": {},
   "outputs": [],
   "source": [
    "svm_class = SVC(kernel='rbf', random_state=0, probability=True)\n",
    "svm_class.fit(X_train,y_train)\n",
    "y_pred = svm_class.predict(X_test)"
   ]
  },
  {
   "cell_type": "code",
   "execution_count": 36,
   "metadata": {},
   "outputs": [],
   "source": [
    "y_pred_prob_final = svm_class.predict_proba(X_test) [:, 1]"
   ]
  },
  {
   "cell_type": "code",
   "execution_count": 37,
   "metadata": {},
   "outputs": [
    {
     "data": {
      "text/plain": [
       "0.8118811881188119"
      ]
     },
     "execution_count": 37,
     "metadata": {},
     "output_type": "execute_result"
    }
   ],
   "source": [
    "from sklearn.metrics import accuracy_score\n",
    "accuracy_score(y_test, y_pred)"
   ]
  },
  {
   "cell_type": "code",
   "execution_count": 65,
   "metadata": {},
   "outputs": [
    {
     "data": {
      "image/png": "[encoded data removed]",
      "text/plain": [
       "<matplotlib.figure.Figure at 0x11e519c50>"
      ]
     },
     "metadata": {},
     "output_type": "display_data"
    }
   ],
   "source": [
    "from sklearn.metrics import roc_curve, roc_auc_score\n",
    "\n",
    "fpr, tpr, threshold = roc_curve(y_test, y_pred_prob)\n",
    "auc_score = roc_auc_score(y_test, y_pred_prob)\n",
    "plt.title('Receiving Operating Characteristics')\n",
    "plt.plot(fpr, tpr, 'b', label = 'AUC = %0.2f'%auc_score)\n",
    "plt.legend(loc = 'lower right')\n",
    "plt.plot([0,1], [0,1], 'r--')\n",
    "plt.xlim([0,1])\n",
    "plt.ylim([0,1])\n",
    "plt.xlabel('False Positive Rate')\n",
    "plt.ylabel('True Positive Rate')\n",
    "plt.show()"
   ]
  },
  {
   "cell_type": "markdown",
   "metadata": {},
   "source": [
    "# Comparing the ROC curve of SVM model with and without additional features"
   ]
  },
  {
   "cell_type": "code",
   "execution_count": 45,
   "metadata": {},
   "outputs": [
    {
     "data": {
      "text/plain": [
       "<matplotlib.legend.Legend at 0x116b119e8>"
      ]
     },
     "execution_count": 45,
     "metadata": {},
     "output_type": "execute_result"
    },
    {
     "data": {
      "image/png": "[encoded data removed]",
      "text/plain": [
       "<matplotlib.figure.Figure at 0x116b32828>"
      ]
     },
     "metadata": {},
     "output_type": "display_data"
    }
   ],
   "source": [
    "from sklearn import metrics\n",
    "\n",
    "plt.figure(0).clf()\n",
    "\n",
    "fig1 = plt.gcf()\n",
    "\n",
    "fpr, tpr, thresh = metrics.roc_curve(y_test, y_pred_prob)\n",
    "auc = metrics.roc_auc_score(y_test, y_pred_prob)\n",
    "plt.plot(fpr,tpr,label=\"SVM_without_additional_features, auc=\"+str(auc))\n",
    "\n",
    "\n",
    "fpr, tpr, thresh = metrics.roc_curve(y_test, y_pred_prob_final)\n",
    "auc = metrics.roc_auc_score(y_test, y_pred_prob_final)\n",
    "plt.plot(fpr,tpr,label=\"SVM_with_additional_features, auc=\"+str(auc))\n",
    "\n",
    "plt.legend(loc=0)"
   ]
  },
  {
   "cell_type": "code",
   "execution_count": 47,
   "metadata": {},
   "outputs": [],
   "source": [
    "fig1.savefig('plot.pdf', dpi=100)"
   ]
  },
  {
   "cell_type": "markdown",
   "metadata": {},
   "source": [
    "# Hence, we will build our final classifier using body_score, tournaments, inlinks, answer_type and the two extracted features, length of the text and tournament year"
   ]
  },
  {
   "cell_type": "code",
   "execution_count": null,
   "metadata": {},
   "outputs": [],
   "source": []
  }
 ],
 "metadata": {
  "kernelspec": {
   "display_name": "Python 3",
   "language": "python",
   "name": "python3"
  },
  "language_info": {
   "codemirror_mode": {
    "name": "ipython",
    "version": 3
   },
   "file_extension": ".py",
   "mimetype": "text/x-python",
   "name": "python",
   "nbconvert_exporter": "python",
   "pygments_lexer": "ipython3",
   "version": "3.6.4"
  }
 },
 "nbformat": 4,
 "nbformat_minor": 2
}
