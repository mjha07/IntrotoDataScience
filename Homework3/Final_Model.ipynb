{
 "cells": [
  {
   "cell_type": "code",
   "execution_count": 1,
   "metadata": {},
   "outputs": [],
   "source": [
    "import numpy as np\n",
    "import pandas as pd\n",
    "import seaborn as sns\n",
    "import matplotlib.pyplot as plt\n",
    "% matplotlib inline\n",
    "\n",
    "from sklearn.preprocessing import LabelEncoder, OneHotEncoder\n",
    "\n",
    "from sklearn.metrics import accuracy_score\n",
    "from sklearn.metrics import roc_curve, roc_auc_score"
   ]
  },
  {
   "cell_type": "code",
   "execution_count": 2,
   "metadata": {},
   "outputs": [],
   "source": [
    "df = pd.read_csv('qb.train.csv')"
   ]
  },
  {
   "cell_type": "code",
   "execution_count": 3,
   "metadata": {},
   "outputs": [
    {
     "data": {
      "text/html": [
       "<div>\n",
       "<style scoped>\n",
       "    .dataframe tbody tr th:only-of-type {\n",
       "        vertical-align: middle;\n",
       "    }\n",
       "\n",
       "    .dataframe tbody tr th {\n",
       "        vertical-align: top;\n",
       "    }\n",
       "\n",
       "    .dataframe thead th {\n",
       "        text-align: right;\n",
       "    }\n",
       "</style>\n",
       "<table border=\"1\" class=\"dataframe\">\n",
       "  <thead>\n",
       "    <tr style=\"text-align: right;\">\n",
       "      <th></th>\n",
       "      <th>row</th>\n",
       "      <th>body_score</th>\n",
       "      <th>page</th>\n",
       "      <th>answer</th>\n",
       "      <th>text</th>\n",
       "      <th>category</th>\n",
       "      <th>tournaments</th>\n",
       "      <th>answer_type</th>\n",
       "      <th>corr</th>\n",
       "      <th>inlinks</th>\n",
       "    </tr>\n",
       "  </thead>\n",
       "  <tbody>\n",
       "    <tr>\n",
       "      <th>0</th>\n",
       "      <td>1</td>\n",
       "      <td>127.398036</td>\n",
       "      <td>Comus (John Milton)</td>\n",
       "      <td>Comus (John Milton)</td>\n",
       "      <td>First performed in Ludlow Castle by the childr...</td>\n",
       "      <td>Literature</td>\n",
       "      <td>2000 ACF Nationals</td>\n",
       "      <td>work</td>\n",
       "      <td>True</td>\n",
       "      <td>62</td>\n",
       "    </tr>\n",
       "    <tr>\n",
       "      <th>1</th>\n",
       "      <td>2</td>\n",
       "      <td>50.212336</td>\n",
       "      <td>Circe</td>\n",
       "      <td>Comus (John Milton)</td>\n",
       "      <td>First performed in Ludlow Castle by the childr...</td>\n",
       "      <td>Literature</td>\n",
       "      <td>2000 ACF Nationals</td>\n",
       "      <td>None</td>\n",
       "      <td>False</td>\n",
       "      <td>5</td>\n",
       "    </tr>\n",
       "    <tr>\n",
       "      <th>2</th>\n",
       "      <td>3</td>\n",
       "      <td>44.767071</td>\n",
       "      <td>Satyr</td>\n",
       "      <td>Comus (John Milton)</td>\n",
       "      <td>First performed in Ludlow Castle by the childr...</td>\n",
       "      <td>Literature</td>\n",
       "      <td>2000 ACF Nationals</td>\n",
       "      <td>None</td>\n",
       "      <td>False</td>\n",
       "      <td>6</td>\n",
       "    </tr>\n",
       "    <tr>\n",
       "      <th>3</th>\n",
       "      <td>4</td>\n",
       "      <td>44.058274</td>\n",
       "      <td>Philip K. Dick</td>\n",
       "      <td>Wilfred Owen</td>\n",
       "      <td>This author is convinced by another to publish...</td>\n",
       "      <td>Literature</td>\n",
       "      <td>2009 ACF Winter</td>\n",
       "      <td>people</td>\n",
       "      <td>False</td>\n",
       "      <td>22</td>\n",
       "    </tr>\n",
       "    <tr>\n",
       "      <th>4</th>\n",
       "      <td>5</td>\n",
       "      <td>40.675249</td>\n",
       "      <td>Honore de Balzac</td>\n",
       "      <td>Wilfred Owen</td>\n",
       "      <td>This author is convinced by another to publish...</td>\n",
       "      <td>Literature</td>\n",
       "      <td>2009 ACF Winter</td>\n",
       "      <td>None</td>\n",
       "      <td>False</td>\n",
       "      <td>0</td>\n",
       "    </tr>\n",
       "  </tbody>\n",
       "</table>\n",
       "</div>"
      ],
      "text/plain": [
       "   row  body_score                 page               answer  \\\n",
       "0    1  127.398036  Comus (John Milton)  Comus (John Milton)   \n",
       "1    2   50.212336                Circe  Comus (John Milton)   \n",
       "2    3   44.767071                Satyr  Comus (John Milton)   \n",
       "3    4   44.058274       Philip K. Dick         Wilfred Owen   \n",
       "4    5   40.675249     Honore de Balzac         Wilfred Owen   \n",
       "\n",
       "                                                text    category  \\\n",
       "0  First performed in Ludlow Castle by the childr...  Literature   \n",
       "1  First performed in Ludlow Castle by the childr...  Literature   \n",
       "2  First performed in Ludlow Castle by the childr...  Literature   \n",
       "3  This author is convinced by another to publish...  Literature   \n",
       "4  This author is convinced by another to publish...  Literature   \n",
       "\n",
       "          tournaments answer_type   corr  inlinks  \n",
       "0  2000 ACF Nationals        work   True       62  \n",
       "1  2000 ACF Nationals        None  False        5  \n",
       "2  2000 ACF Nationals        None  False        6  \n",
       "3     2009 ACF Winter      people  False       22  \n",
       "4     2009 ACF Winter        None  False        0  "
      ]
     },
     "execution_count": 3,
     "metadata": {},
     "output_type": "execute_result"
    }
   ],
   "source": [
    "df.head()"
   ]
  },
  {
   "cell_type": "code",
   "execution_count": 6,
   "metadata": {},
   "outputs": [],
   "source": [
    "import re\n",
    "pattern = \"^[0-9][0-9][0-9][0-9]\"\n",
    "\n",
    "for index, row in df.iterrows():\n",
    "    temp = df['tournaments'].values[index]\n",
    "    year = re.match(pattern, temp)\n",
    "    df['tournament_year'].values[index] = year.group(0)"
   ]
  },
  {
   "cell_type": "code",
   "execution_count": 8,
   "metadata": {},
   "outputs": [],
   "source": [
    "for index, row in df.iterrows():\n",
    "    temp = df['text'].values[index]\n",
    "    temp = temp.split()\n",
    "    length = len(temp)\n",
    "    df['length_text'].values[index] = length"
   ]
  },
  {
   "cell_type": "code",
   "execution_count": 9,
   "metadata": {},
   "outputs": [
    {
     "data": {
      "text/html": [
       "<div>\n",
       "<style scoped>\n",
       "    .dataframe tbody tr th:only-of-type {\n",
       "        vertical-align: middle;\n",
       "    }\n",
       "\n",
       "    .dataframe tbody tr th {\n",
       "        vertical-align: top;\n",
       "    }\n",
       "\n",
       "    .dataframe thead th {\n",
       "        text-align: right;\n",
       "    }\n",
       "</style>\n",
       "<table border=\"1\" class=\"dataframe\">\n",
       "  <thead>\n",
       "    <tr style=\"text-align: right;\">\n",
       "      <th></th>\n",
       "      <th>row</th>\n",
       "      <th>body_score</th>\n",
       "      <th>page</th>\n",
       "      <th>answer</th>\n",
       "      <th>text</th>\n",
       "      <th>category</th>\n",
       "      <th>tournaments</th>\n",
       "      <th>answer_type</th>\n",
       "      <th>corr</th>\n",
       "      <th>inlinks</th>\n",
       "      <th>tournament_year</th>\n",
       "      <th>length_text</th>\n",
       "    </tr>\n",
       "  </thead>\n",
       "  <tbody>\n",
       "    <tr>\n",
       "      <th>0</th>\n",
       "      <td>1</td>\n",
       "      <td>127.398036</td>\n",
       "      <td>Comus (John Milton)</td>\n",
       "      <td>Comus (John Milton)</td>\n",
       "      <td>First performed in Ludlow Castle by the childr...</td>\n",
       "      <td>Literature</td>\n",
       "      <td>2000 ACF Nationals</td>\n",
       "      <td>work</td>\n",
       "      <td>True</td>\n",
       "      <td>62</td>\n",
       "      <td>2000</td>\n",
       "      <td>65</td>\n",
       "    </tr>\n",
       "    <tr>\n",
       "      <th>1</th>\n",
       "      <td>2</td>\n",
       "      <td>50.212336</td>\n",
       "      <td>Circe</td>\n",
       "      <td>Comus (John Milton)</td>\n",
       "      <td>First performed in Ludlow Castle by the childr...</td>\n",
       "      <td>Literature</td>\n",
       "      <td>2000 ACF Nationals</td>\n",
       "      <td>None</td>\n",
       "      <td>False</td>\n",
       "      <td>5</td>\n",
       "      <td>2000</td>\n",
       "      <td>65</td>\n",
       "    </tr>\n",
       "    <tr>\n",
       "      <th>2</th>\n",
       "      <td>3</td>\n",
       "      <td>44.767071</td>\n",
       "      <td>Satyr</td>\n",
       "      <td>Comus (John Milton)</td>\n",
       "      <td>First performed in Ludlow Castle by the childr...</td>\n",
       "      <td>Literature</td>\n",
       "      <td>2000 ACF Nationals</td>\n",
       "      <td>None</td>\n",
       "      <td>False</td>\n",
       "      <td>6</td>\n",
       "      <td>2000</td>\n",
       "      <td>65</td>\n",
       "    </tr>\n",
       "    <tr>\n",
       "      <th>3</th>\n",
       "      <td>4</td>\n",
       "      <td>44.058274</td>\n",
       "      <td>Philip K. Dick</td>\n",
       "      <td>Wilfred Owen</td>\n",
       "      <td>This author is convinced by another to publish...</td>\n",
       "      <td>Literature</td>\n",
       "      <td>2009 ACF Winter</td>\n",
       "      <td>people</td>\n",
       "      <td>False</td>\n",
       "      <td>22</td>\n",
       "      <td>2009</td>\n",
       "      <td>56</td>\n",
       "    </tr>\n",
       "    <tr>\n",
       "      <th>4</th>\n",
       "      <td>5</td>\n",
       "      <td>40.675249</td>\n",
       "      <td>Honore de Balzac</td>\n",
       "      <td>Wilfred Owen</td>\n",
       "      <td>This author is convinced by another to publish...</td>\n",
       "      <td>Literature</td>\n",
       "      <td>2009 ACF Winter</td>\n",
       "      <td>None</td>\n",
       "      <td>False</td>\n",
       "      <td>0</td>\n",
       "      <td>2009</td>\n",
       "      <td>56</td>\n",
       "    </tr>\n",
       "  </tbody>\n",
       "</table>\n",
       "</div>"
      ],
      "text/plain": [
       "   row  body_score                 page               answer  \\\n",
       "0    1  127.398036  Comus (John Milton)  Comus (John Milton)   \n",
       "1    2   50.212336                Circe  Comus (John Milton)   \n",
       "2    3   44.767071                Satyr  Comus (John Milton)   \n",
       "3    4   44.058274       Philip K. Dick         Wilfred Owen   \n",
       "4    5   40.675249     Honore de Balzac         Wilfred Owen   \n",
       "\n",
       "                                                text    category  \\\n",
       "0  First performed in Ludlow Castle by the childr...  Literature   \n",
       "1  First performed in Ludlow Castle by the childr...  Literature   \n",
       "2  First performed in Ludlow Castle by the childr...  Literature   \n",
       "3  This author is convinced by another to publish...  Literature   \n",
       "4  This author is convinced by another to publish...  Literature   \n",
       "\n",
       "          tournaments answer_type   corr  inlinks tournament_year  length_text  \n",
       "0  2000 ACF Nationals        work   True       62            2000           65  \n",
       "1  2000 ACF Nationals        None  False        5            2000           65  \n",
       "2  2000 ACF Nationals        None  False        6            2000           65  \n",
       "3     2009 ACF Winter      people  False       22            2009           56  \n",
       "4     2009 ACF Winter        None  False        0            2009           56  "
      ]
     },
     "execution_count": 9,
     "metadata": {},
     "output_type": "execute_result"
    }
   ],
   "source": [
    "df.head()"
   ]
  },
  {
   "cell_type": "code",
   "execution_count": 10,
   "metadata": {},
   "outputs": [],
   "source": [
    "X_train = df.iloc[:, [1,6,7,9,10,11]].values\n",
    "y_train = df.iloc[:, 8].values"
   ]
  },
  {
   "cell_type": "code",
   "execution_count": 11,
   "metadata": {},
   "outputs": [],
   "source": [
    "label_encoder_tournaments_2 = LabelEncoder()\n",
    "label_encoder_answer_type_1 = LabelEncoder()\n",
    "label_encoder_tournament_year_1 = LabelEncoder()\n",
    "\n",
    "label_encoder_tournaments_2.fit(X_train[:,1]) #never enter multiple column here, it doesn't work\n",
    "X_train[:,1] = label_encoder_tournaments_2.transform(X_train[:,1])\n",
    "\n",
    "label_encoder_answer_type_1.fit(X_train[:,2]) #never enter multiple column here, it doesn't work\n",
    "X_train[:,2] = label_encoder_answer_type_1.transform(X_train[:,2])\n",
    "\n",
    "label_encoder_tournament_year_1.fit(X_train[:,4]) #never enter multiple column here, it doesn't work\n",
    "X_train[:,4] = label_encoder_tournament_year_1.transform(X_train[:,4])\n",
    "\n",
    "one_hot_encoder = OneHotEncoder(categorical_features=[1,2,4], sparse=False)\n",
    "one_hot_encoder.fit(X_train)\n",
    "X_train= one_hot_encoder.transform(X_train)"
   ]
  },
  {
   "cell_type": "code",
   "execution_count": 12,
   "metadata": {},
   "outputs": [],
   "source": [
    "label_encoder_corr = LabelEncoder()\n",
    "label_encoder_corr.fit(y_train) #never enter multiple column here, it doesn't work\n",
    "y_train = label_encoder_corr.transform(y_train)"
   ]
  },
  {
   "cell_type": "code",
   "execution_count": 13,
   "metadata": {},
   "outputs": [],
   "source": [
    "test = pd.read_csv('qb_test.csv')"
   ]
  },
  {
   "cell_type": "code",
   "execution_count": 16,
   "metadata": {},
   "outputs": [],
   "source": [
    "pattern = \"^[0-9][0-9][0-9][0-9]\"\n",
    "\n",
    "for index, row in test.iterrows():\n",
    "    temp = test['tournaments'].values[index]\n",
    "    year = re.match(pattern, temp)\n",
    "    test['tournament_year'].values[index] = year.group(0)"
   ]
  },
  {
   "cell_type": "code",
   "execution_count": 18,
   "metadata": {},
   "outputs": [],
   "source": [
    "for index, row in test.iterrows():\n",
    "    temp = test['text'].values[index]\n",
    "    temp = temp.split()\n",
    "    length = len(temp)\n",
    "    test['length_text'].values[index] = length"
   ]
  },
  {
   "cell_type": "code",
   "execution_count": 19,
   "metadata": {},
   "outputs": [
    {
     "data": {
      "text/html": [
       "<div>\n",
       "<style scoped>\n",
       "    .dataframe tbody tr th:only-of-type {\n",
       "        vertical-align: middle;\n",
       "    }\n",
       "\n",
       "    .dataframe tbody tr th {\n",
       "        vertical-align: top;\n",
       "    }\n",
       "\n",
       "    .dataframe thead th {\n",
       "        text-align: right;\n",
       "    }\n",
       "</style>\n",
       "<table border=\"1\" class=\"dataframe\">\n",
       "  <thead>\n",
       "    <tr style=\"text-align: right;\">\n",
       "      <th></th>\n",
       "      <th>row</th>\n",
       "      <th>body_score</th>\n",
       "      <th>page</th>\n",
       "      <th>text</th>\n",
       "      <th>category</th>\n",
       "      <th>tournaments</th>\n",
       "      <th>answer_type</th>\n",
       "      <th>inlinks</th>\n",
       "      <th>tournament_year</th>\n",
       "      <th>length_text</th>\n",
       "    </tr>\n",
       "  </thead>\n",
       "  <tbody>\n",
       "    <tr>\n",
       "      <th>0</th>\n",
       "      <td>31</td>\n",
       "      <td>40.023617</td>\n",
       "      <td>Death in Venice</td>\n",
       "      <td>The protagonist of this novella is inspired to...</td>\n",
       "      <td>Literature</td>\n",
       "      <td>2001 ACF Fall</td>\n",
       "      <td>work</td>\n",
       "      <td>4</td>\n",
       "      <td>2001</td>\n",
       "      <td>45</td>\n",
       "    </tr>\n",
       "    <tr>\n",
       "      <th>1</th>\n",
       "      <td>32</td>\n",
       "      <td>27.538799</td>\n",
       "      <td>The Eye of the World</td>\n",
       "      <td>The protagonist of this novella is inspired to...</td>\n",
       "      <td>Literature</td>\n",
       "      <td>2001 ACF Fall</td>\n",
       "      <td>work</td>\n",
       "      <td>1</td>\n",
       "      <td>2001</td>\n",
       "      <td>45</td>\n",
       "    </tr>\n",
       "    <tr>\n",
       "      <th>2</th>\n",
       "      <td>33</td>\n",
       "      <td>26.976121</td>\n",
       "      <td>Carmilla</td>\n",
       "      <td>The protagonist of this novella is inspired to...</td>\n",
       "      <td>Literature</td>\n",
       "      <td>2001 ACF Fall</td>\n",
       "      <td>work</td>\n",
       "      <td>2</td>\n",
       "      <td>2001</td>\n",
       "      <td>45</td>\n",
       "    </tr>\n",
       "    <tr>\n",
       "      <th>3</th>\n",
       "      <td>88</td>\n",
       "      <td>45.848831</td>\n",
       "      <td>A Passage to India</td>\n",
       "      <td>In a symbolic incident in this novel Ronny Hea...</td>\n",
       "      <td>Literature</td>\n",
       "      <td>2001 ACF Regionals</td>\n",
       "      <td>work</td>\n",
       "      <td>5</td>\n",
       "      <td>2001</td>\n",
       "      <td>22</td>\n",
       "    </tr>\n",
       "    <tr>\n",
       "      <th>4</th>\n",
       "      <td>91</td>\n",
       "      <td>99.811169</td>\n",
       "      <td>The Cherry Orchard</td>\n",
       "      <td>We first meet Fiers, the aging footman, in Act...</td>\n",
       "      <td>Literature</td>\n",
       "      <td>2001 ACF Regionals</td>\n",
       "      <td>work</td>\n",
       "      <td>11</td>\n",
       "      <td>2001</td>\n",
       "      <td>96</td>\n",
       "    </tr>\n",
       "  </tbody>\n",
       "</table>\n",
       "</div>"
      ],
      "text/plain": [
       "   row  body_score                  page  \\\n",
       "0   31   40.023617       Death in Venice   \n",
       "1   32   27.538799  The Eye of the World   \n",
       "2   33   26.976121              Carmilla   \n",
       "3   88   45.848831    A Passage to India   \n",
       "4   91   99.811169    The Cherry Orchard   \n",
       "\n",
       "                                                text    category  \\\n",
       "0  The protagonist of this novella is inspired to...  Literature   \n",
       "1  The protagonist of this novella is inspired to...  Literature   \n",
       "2  The protagonist of this novella is inspired to...  Literature   \n",
       "3  In a symbolic incident in this novel Ronny Hea...  Literature   \n",
       "4  We first meet Fiers, the aging footman, in Act...  Literature   \n",
       "\n",
       "          tournaments answer_type  inlinks tournament_year  length_text  \n",
       "0       2001 ACF Fall        work        4            2001           45  \n",
       "1       2001 ACF Fall        work        1            2001           45  \n",
       "2       2001 ACF Fall        work        2            2001           45  \n",
       "3  2001 ACF Regionals        work        5            2001           22  \n",
       "4  2001 ACF Regionals        work       11            2001           96  "
      ]
     },
     "execution_count": 19,
     "metadata": {},
     "output_type": "execute_result"
    }
   ],
   "source": [
    "test.head()"
   ]
  },
  {
   "cell_type": "code",
   "execution_count": 20,
   "metadata": {},
   "outputs": [],
   "source": [
    "X_test = test.iloc[:, [1,5,6,7,8,9]].values"
   ]
  },
  {
   "cell_type": "code",
   "execution_count": 21,
   "metadata": {},
   "outputs": [],
   "source": [
    "X_test[:,1] = label_encoder_tournaments_2.transform(X_test[:,1])\n",
    "\n",
    "X_test[:,2] = label_encoder_answer_type_1.transform(X_test[:,2])\n",
    "\n",
    "X_test[:,4] = label_encoder_tournament_year_1.transform(X_test[:,4])"
   ]
  },
  {
   "cell_type": "code",
   "execution_count": 22,
   "metadata": {},
   "outputs": [],
   "source": [
    "X_test= one_hot_encoder.transform(X_test)"
   ]
  },
  {
   "cell_type": "code",
   "execution_count": 23,
   "metadata": {},
   "outputs": [],
   "source": [
    "from sklearn.svm import SVC\n",
    "\n",
    "svm_class = SVC(kernel='rbf', random_state=0, probability=True)\n",
    "svm_class.fit(X_train,y_train)\n",
    "y_pred = svm_class.predict(X_test)\n",
    "y_pred_prob = svm_class.predict_proba(X_test) [:, 1]"
   ]
  },
  {
   "cell_type": "code",
   "execution_count": 21,
   "metadata": {},
   "outputs": [
    {
     "data": {
      "text/plain": [
       "(887, 88)"
      ]
     },
     "execution_count": 21,
     "metadata": {},
     "output_type": "execute_result"
    }
   ],
   "source": [
    "#X_test.shape"
   ]
  },
  {
   "cell_type": "code",
   "execution_count": 22,
   "metadata": {},
   "outputs": [
    {
     "data": {
      "text/plain": [
       "(8079, 88)"
      ]
     },
     "execution_count": 22,
     "metadata": {},
     "output_type": "execute_result"
    }
   ],
   "source": [
    "#X_train.shape"
   ]
  },
  {
   "cell_type": "code",
   "execution_count": 29,
   "metadata": {},
   "outputs": [
    {
     "data": {
      "text/plain": [
       "887"
      ]
     },
     "execution_count": 29,
     "metadata": {},
     "output_type": "execute_result"
    }
   ],
   "source": [
    "#len(y_pred)"
   ]
  },
  {
   "cell_type": "code",
   "execution_count": 24,
   "metadata": {},
   "outputs": [],
   "source": [
    "final_df = pd.DataFrame(data=y_pred)"
   ]
  },
  {
   "cell_type": "code",
   "execution_count": 25,
   "metadata": {},
   "outputs": [
    {
     "data": {
      "text/plain": [
       "(887, 1)"
      ]
     },
     "execution_count": 25,
     "metadata": {},
     "output_type": "execute_result"
    }
   ],
   "source": [
    "final_df.shape"
   ]
  },
  {
   "cell_type": "code",
   "execution_count": 26,
   "metadata": {},
   "outputs": [],
   "source": [
    "final_df['row'] = test['row']"
   ]
  },
  {
   "cell_type": "code",
   "execution_count": 27,
   "metadata": {},
   "outputs": [
    {
     "data": {
      "text/html": [
       "<div>\n",
       "<style scoped>\n",
       "    .dataframe tbody tr th:only-of-type {\n",
       "        vertical-align: middle;\n",
       "    }\n",
       "\n",
       "    .dataframe tbody tr th {\n",
       "        vertical-align: top;\n",
       "    }\n",
       "\n",
       "    .dataframe thead th {\n",
       "        text-align: right;\n",
       "    }\n",
       "</style>\n",
       "<table border=\"1\" class=\"dataframe\">\n",
       "  <thead>\n",
       "    <tr style=\"text-align: right;\">\n",
       "      <th></th>\n",
       "      <th>0</th>\n",
       "      <th>row</th>\n",
       "    </tr>\n",
       "  </thead>\n",
       "  <tbody>\n",
       "    <tr>\n",
       "      <th>0</th>\n",
       "      <td>0</td>\n",
       "      <td>31</td>\n",
       "    </tr>\n",
       "    <tr>\n",
       "      <th>1</th>\n",
       "      <td>1</td>\n",
       "      <td>32</td>\n",
       "    </tr>\n",
       "    <tr>\n",
       "      <th>2</th>\n",
       "      <td>1</td>\n",
       "      <td>33</td>\n",
       "    </tr>\n",
       "    <tr>\n",
       "      <th>3</th>\n",
       "      <td>1</td>\n",
       "      <td>88</td>\n",
       "    </tr>\n",
       "    <tr>\n",
       "      <th>4</th>\n",
       "      <td>1</td>\n",
       "      <td>91</td>\n",
       "    </tr>\n",
       "  </tbody>\n",
       "</table>\n",
       "</div>"
      ],
      "text/plain": [
       "   0  row\n",
       "0  0   31\n",
       "1  1   32\n",
       "2  1   33\n",
       "3  1   88\n",
       "4  1   91"
      ]
     },
     "execution_count": 27,
     "metadata": {},
     "output_type": "execute_result"
    }
   ],
   "source": [
    "final_df.head()"
   ]
  },
  {
   "cell_type": "code",
   "execution_count": 28,
   "metadata": {},
   "outputs": [],
   "source": [
    "final_df.columns = ['corr', 'row']"
   ]
  },
  {
   "cell_type": "code",
   "execution_count": 29,
   "metadata": {},
   "outputs": [
    {
     "data": {
      "text/html": [
       "<div>\n",
       "<style scoped>\n",
       "    .dataframe tbody tr th:only-of-type {\n",
       "        vertical-align: middle;\n",
       "    }\n",
       "\n",
       "    .dataframe tbody tr th {\n",
       "        vertical-align: top;\n",
       "    }\n",
       "\n",
       "    .dataframe thead th {\n",
       "        text-align: right;\n",
       "    }\n",
       "</style>\n",
       "<table border=\"1\" class=\"dataframe\">\n",
       "  <thead>\n",
       "    <tr style=\"text-align: right;\">\n",
       "      <th></th>\n",
       "      <th>corr</th>\n",
       "      <th>row</th>\n",
       "    </tr>\n",
       "  </thead>\n",
       "  <tbody>\n",
       "    <tr>\n",
       "      <th>0</th>\n",
       "      <td>0</td>\n",
       "      <td>31</td>\n",
       "    </tr>\n",
       "    <tr>\n",
       "      <th>1</th>\n",
       "      <td>1</td>\n",
       "      <td>32</td>\n",
       "    </tr>\n",
       "    <tr>\n",
       "      <th>2</th>\n",
       "      <td>1</td>\n",
       "      <td>33</td>\n",
       "    </tr>\n",
       "    <tr>\n",
       "      <th>3</th>\n",
       "      <td>1</td>\n",
       "      <td>88</td>\n",
       "    </tr>\n",
       "    <tr>\n",
       "      <th>4</th>\n",
       "      <td>1</td>\n",
       "      <td>91</td>\n",
       "    </tr>\n",
       "  </tbody>\n",
       "</table>\n",
       "</div>"
      ],
      "text/plain": [
       "   corr  row\n",
       "0     0   31\n",
       "1     1   32\n",
       "2     1   33\n",
       "3     1   88\n",
       "4     1   91"
      ]
     },
     "execution_count": 29,
     "metadata": {},
     "output_type": "execute_result"
    }
   ],
   "source": [
    "final_df.head()"
   ]
  },
  {
   "cell_type": "code",
   "execution_count": 30,
   "metadata": {},
   "outputs": [],
   "source": [
    "final_df.to_csv('prediction_hw3.csv', encoding='utf-8', index=False)"
   ]
  },
  {
   "cell_type": "code",
   "execution_count": null,
   "metadata": {},
   "outputs": [],
   "source": []
  }
 ],
 "metadata": {
  "kernelspec": {
   "display_name": "Python 3",
   "language": "python",
   "name": "python3"
  },
  "language_info": {
   "codemirror_mode": {
    "name": "ipython",
    "version": 3
   },
   "file_extension": ".py",
   "mimetype": "text/x-python",
   "name": "python",
   "nbconvert_exporter": "python",
   "pygments_lexer": "ipython3",
   "version": "3.6.4"
  }
 },
 "nbformat": 4,
 "nbformat_minor": 2
}
